{
 "cells": [
  {
   "cell_type": "code",
   "execution_count": 6,
   "metadata": {
    "collapsed": true,
    "pycharm": {
     "name": "#%%\n",
     "is_executing": false
    }
   },
   "outputs": [],
   "source": [
    "from abc import ABC\n",
    "from enum import Enum, auto\n",
    "class HotDrink(ABC):\n",
    "    def consume(self):\n",
    "        pass\n",
    "    \n",
    "class Tea(HotDrink):\n",
    "    def consume(self):\n",
    "        print('This tea is delicious')\n",
    "    \n",
    "class Coffee(HotDrink):\n",
    "    def consume(self):\n",
    "        print('This coffee is delicious')\n",
    "    \n",
    "class HotDrinkFactory(ABC):\n",
    "    def prepare(self, amount):\n",
    "        pass\n",
    "    \n",
    "class TeaFactory(HotDrinkFactory):\n",
    "    def prepare(self, amount):\n",
    "        print(f'Put in tea bag, boil water,'\n",
    "              f' pour {amount}ml, enjoy')\n",
    "        return Tea()\n",
    "\n",
    "class CoffeeFactory(HotDrinkFactory):\n",
    "    def prepare(self, amount):\n",
    "        print(f'Grind some beans, boil water,'\n",
    "              f' pour {amount}ml, enjoy')\n",
    "        return Coffee()"
   ]
  },
  {
   "cell_type": "code",
   "execution_count": 7,
   "outputs": [],
   "source": [
    "def make_drink(type):\n",
    "    if type == 'tea':\n",
    "        return TeaFactory().prepare(200)\n",
    "    elif type == 'coffee':\n",
    "        return CoffeeFactory().prepare(50)\n",
    "    else:\n",
    "        return None"
   ],
   "metadata": {
    "collapsed": false,
    "pycharm": {
     "name": "#%%\n",
     "is_executing": false
    }
   }
  },
  {
   "cell_type": "code",
   "execution_count": 8,
   "outputs": [
    {
     "name": "stdout",
     "text": [
      "Put in tea bag, boil water, pour 200ml, enjoy\n",
      "This tea is delicious\n"
     ],
     "output_type": "stream"
    }
   ],
   "source": [
    "entry = input('What kind of drink would you like?')\n",
    "drink = make_drink(entry)\n",
    "drink.consume()"
   ],
   "metadata": {
    "collapsed": false,
    "pycharm": {
     "name": "#%%\n",
     "is_executing": false
    }
   }
  },
  {
   "cell_type": "code",
   "execution_count": 13,
   "outputs": [],
   "source": [
    "# class HotDrinkFactory(ABC):\n",
    "#     def prepare(self, amount):\n",
    "#         pass\n",
    "    \n",
    "class TeaFactory:\n",
    "    def prepare(self, amount):\n",
    "        print(f'Put in tea bag, boil water,'\n",
    "              f' pour {amount}ml, enjoy')\n",
    "        return Tea()\n",
    "\n",
    "class CoffeeFactory:\n",
    "    def prepare(self, amount):\n",
    "        print(f'Grind some beans, boil water,'\n",
    "              f' pour {amount}ml, enjoy')\n",
    "        return Coffee()"
   ],
   "metadata": {
    "collapsed": false,
    "pycharm": {
     "name": "#%%\n",
     "is_executing": false
    }
   }
  },
  {
   "cell_type": "code",
   "execution_count": 17,
   "outputs": [],
   "source": [
    "class HotDrinkMachine:\n",
    "    class AvailableDrink(Enum):\n",
    "        COFFEE = auto()\n",
    "        TEA = auto()\n",
    "        \n",
    "    factories = []\n",
    "    initialized = False\n",
    "    \n",
    "    def __init__(self):\n",
    "        if not self.initialized:\n",
    "            self.initialized = True\n",
    "            for d in self.AvailableDrink:\n",
    "                name = d.name[0] + d.name[1:].lower()\n",
    "                factory_name = name + 'Factory'\n",
    "                factory_instance = eval(factory_name)()\n",
    "                self.factories.append((name, factory_instance))\n",
    "                \n",
    "    def make_drink(self):\n",
    "        print('Available drinks:')\n",
    "        for f in self.factories:\n",
    "            print(f[0])\n",
    "        \n",
    "        s = input(f'Please pick drink (0-{len(self.factories)-1}): ')\n",
    "        idx = int(s)\n",
    "        s = input(f'Specify amount: ')\n",
    "        amount = int(s)\n",
    "        return self.factories[idx][1].prepare(amount)\n",
    "        "
   ],
   "metadata": {
    "collapsed": false,
    "pycharm": {
     "name": "#%%\n",
     "is_executing": false
    }
   }
  },
  {
   "cell_type": "code",
   "execution_count": 18,
   "outputs": [
    {
     "name": "stdout",
     "text": [
      "Available drinks:\n",
      "Coffee\n",
      "Tea\n",
      "Put in tea bag, boil water, pour 200ml, enjoy\n"
     ],
     "output_type": "stream"
    },
    {
     "data": {
      "text/plain": "<__main__.Tea at 0x76b8df0>"
     },
     "metadata": {},
     "output_type": "execute_result",
     "execution_count": 18
    }
   ],
   "source": [
    "hdm = HotDrinkMachine()\n",
    "hdm.make_drink() \n"
   ],
   "metadata": {
    "collapsed": false,
    "pycharm": {
     "name": "#%%\n",
     "is_executing": false
    }
   }
  }
 ],
 "metadata": {
  "kernelspec": {
   "display_name": "Python 3",
   "language": "python",
   "name": "python3"
  },
  "language_info": {
   "codemirror_mode": {
    "name": "ipython",
    "version": 2
   },
   "file_extension": ".py",
   "mimetype": "text/x-python",
   "name": "python",
   "nbconvert_exporter": "python",
   "pygments_lexer": "ipython2",
   "version": "2.7.6"
  },
  "pycharm": {
   "stem_cell": {
    "cell_type": "raw",
    "source": [],
    "metadata": {
     "collapsed": false
    }
   }
  }
 },
 "nbformat": 4,
 "nbformat_minor": 0
}