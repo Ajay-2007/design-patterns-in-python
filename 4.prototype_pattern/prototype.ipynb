{
 "cells": [
  {
   "cell_type": "code",
   "execution_count": 1,
   "metadata": {
    "collapsed": true,
    "pycharm": {
     "is_executing": false
    }
   },
   "outputs": [],
   "source": [
    "\n",
    "class Address:\n",
    "    def __init__(self, street_address, city, country):\n",
    "        self.street_address = street_address\n",
    "        self.city = city\n",
    "        self.country = country\n",
    "\n",
    "    def __str__(self):\n",
    "        return f'{self.street_address}, {self.city}, {self.country}'\n",
    "\n",
    "\n",
    "class Person:\n",
    "    def __init__(self, name, address):\n",
    "        self.name = name\n",
    "        self.address = address\n",
    "\n",
    "    def __str__(self):\n",
    "        return f'{self.name} lives at {self.address}'"
   ]
  },
  {
   "cell_type": "code",
   "execution_count": 5,
   "outputs": [
    {
     "name": "stdout",
     "text": [
      "John lives at 123 London Road, London, UK\n"
     ],
     "output_type": "stream"
    }
   ],
   "source": [
    "john = Person('John', Address('123 London Road', 'London', 'UK'))\n",
    "print(john)"
   ],
   "metadata": {
    "collapsed": false,
    "pycharm": {
     "name": "#%%\n",
     "is_executing": false
    }
   }
  },
  {
   "cell_type": "code",
   "execution_count": 7,
   "outputs": [
    {
     "name": "stdout",
     "text": [
      "Jane lives at 123 London Road, London, UK\n",
      "Jane lives at 123 London Road, London, UK\n"
     ],
     "output_type": "stream"
    }
   ],
   "source": [
    "jane = john\n",
    "jane.name = 'Jane'\n",
    "print(john)\n",
    "print(jane)"
   ],
   "metadata": {
    "collapsed": false,
    "pycharm": {
     "name": "#%%\n",
     "is_executing": false
    }
   }
  },
  {
   "cell_type": "code",
   "execution_count": 8,
   "outputs": [
    {
     "name": "stdout",
     "text": [
      "John lives at 123 London Road, London, UK\n",
      "Jane lives at 123 London Road, London, UK\n"
     ],
     "output_type": "stream"
    }
   ],
   "source": [
    "address =  Address('123 London Road', 'London', 'UK')\n",
    "john = Person('John', address)\n",
    "print(john)\n",
    "jane = Person('Jane', address)\n",
    "print(jane)"
   ],
   "metadata": {
    "collapsed": false,
    "pycharm": {
     "name": "#%%\n",
     "is_executing": false
    }
   }
  },
  {
   "cell_type": "code",
   "execution_count": 9,
   "outputs": [
    {
     "name": "stdout",
     "text": [
      "John lives at 123B London Road, London, UK\n",
      "Jane lives at 123B London Road, London, UK\n"
     ],
     "output_type": "stream"
    }
   ],
   "source": [
    "address =  Address('123 London Road', 'London', 'UK')\n",
    "john = Person('John', address)\n",
    "jane = Person('Jane', address)\n",
    "jane.address.street_address = '123B London Road'\n",
    "print(john)\n",
    "print(jane)\n",
    "\n",
    "\n"
   ],
   "metadata": {
    "collapsed": false,
    "pycharm": {
     "name": "#%%\n",
     "is_executing": false
    }
   }
  },
  {
   "cell_type": "code",
   "execution_count": 13,
   "outputs": [
    {
     "name": "stdout",
     "text": [
      "John lives at 123 London Road, London, UK\n",
      "Jane lives at 124 London Road, London, UK\n"
     ],
     "output_type": "stream"
    }
   ],
   "source": [
    "import copy\n",
    "john = Person('John', Address('123 London Road', 'London', 'UK'))\n",
    "jane = copy.deepcopy(john)\n",
    "jane.name = 'Jane'\n",
    "jane.address.street_address = '124 London Road'\n",
    "print(john)\n",
    "print(jane)\n"
   ],
   "metadata": {
    "collapsed": false,
    "pycharm": {
     "name": "#%%\n",
     "is_executing": false
    }
   }
  },
  {
   "cell_type": "code",
   "execution_count": null,
   "outputs": [],
   "source": [
    "\n"
   ],
   "metadata": {
    "collapsed": false,
    "pycharm": {
     "name": "#%%\n"
    }
   }
  }
 ],
 "metadata": {
  "kernelspec": {
   "display_name": "Python 3",
   "language": "python",
   "name": "python3"
  },
  "language_info": {
   "codemirror_mode": {
    "name": "ipython",
    "version": 2
   },
   "file_extension": ".py",
   "mimetype": "text/x-python",
   "name": "python",
   "nbconvert_exporter": "python",
   "pygments_lexer": "ipython2",
   "version": "2.7.6"
  },
  "pycharm": {
   "stem_cell": {
    "cell_type": "raw",
    "source": [],
    "metadata": {
     "collapsed": false
    }
   }
  }
 },
 "nbformat": 4,
 "nbformat_minor": 0
}