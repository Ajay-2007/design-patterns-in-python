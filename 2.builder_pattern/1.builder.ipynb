{
 "cells": [
  {
   "cell_type": "code",
   "execution_count": 1,
   "metadata": {
    "collapsed": true,
    "pycharm": {
     "is_executing": false
    }
   },
   "outputs": [
    {
     "name": "stdout",
     "text": [
      "<p>hello</p>\n",
      "<ul>\n",
      " <li>hello</li>\n",
      " <li>world</li>\n",
      "</ul>\n"
     ],
     "output_type": "stream"
    }
   ],
   "source": [
    "text = 'hello'\n",
    "parts = ['<p>', text, '</p>']\n",
    "\n",
    "print(''.join(parts))\n",
    "\n",
    "words = ['hello', 'world']\n",
    "parts = ['<ul>']\n",
    "for w in words:\n",
    "    parts.append(f' <li>{w}</li>')\n",
    "parts.append('</ul>')\n",
    "print('\\n'.join(parts))\n"
   ]
  },
  {
   "cell_type": "code",
   "execution_count": 2,
   "outputs": [],
   "source": [
    "class HtmlElement:\n",
    "    indent_size = 2\n",
    "\n",
    "    def __init__(self, name='', text=''):\n",
    "        self.name = name\n",
    "        self.text = text\n",
    "        self.elements = []\n",
    "\n",
    "    def __str(self, indent):\n",
    "        lines = []\n",
    "        i = ' ' * (indent * self.indent_size)\n",
    "        lines.append(f'{i}<{self.name}>')\n",
    "\n",
    "        if self.text:\n",
    "            i1 = ' ' * ((indent + 1) * self.indent_size)\n",
    "            lines.append(f'{i1}{self.text}')\n",
    "\n",
    "        for e in self.elements:\n",
    "            lines.append(e.__str(indent + 1))\n",
    "\n",
    "        lines.append(f'{i}</{self.name}>')\n",
    "\n",
    "        return '\\n'.join(lines)\n",
    "\n",
    "    def __str__(self):\n",
    "        return self.__str(0)\n",
    "\n",
    "    @staticmethod\n",
    "    def create(name):\n",
    "        return HtmlBuilder(name)\n",
    "\n"
   ],
   "metadata": {
    "collapsed": false,
    "pycharm": {
     "name": "#%%\n",
     "is_executing": false
    }
   }
  },
  {
   "cell_type": "code",
   "execution_count": 29,
   "outputs": [],
   "source": [
    "class HtmlBuilder:\n",
    "    def __init__(self, root_name):\n",
    "        self.root_name = root_name\n",
    "        self.__root = HtmlElement(name=root_name)\n",
    "\n",
    "    def add_child(self, child_name, child_text):\n",
    "        self.__root.elements.append(\n",
    "            HtmlElement(child_name, child_text)\n",
    "        )\n",
    "\n",
    "    def __str__(self):\n",
    "        return str(self.__root)"
   ],
   "metadata": {
    "collapsed": false,
    "pycharm": {
     "name": "#%%\n",
     "is_executing": false
    }
   }
  },
  {
   "cell_type": "code",
   "execution_count": 33,
   "outputs": [
    {
     "name": "stdout",
     "text": [
      "Ordinary builder:\n",
      "<ol>\n",
      "  <li>\n",
      "    hello\n",
      "  </li>\n",
      "  <li>\n",
      "    world\n",
      "  </li>\n",
      "</ol>\n"
     ],
     "output_type": "stream"
    }
   ],
   "source": [
    "# builder = HtmlBuilder('ul')\n",
    "builder = HtmlElement.create('ol')\n",
    "builder.add_child('li', 'hello')\n",
    "builder.add_child('li', 'world')\n",
    "print('Ordinary builder:')\n",
    "print(builder)"
   ],
   "metadata": {
    "collapsed": false,
    "pycharm": {
     "name": "#%%\n",
     "is_executing": false
    }
   }
  },
  {
   "cell_type": "markdown",
   "source": [
    "Making a fluent interface, which we can chain it. We could have two add_child calls\n",
    "one after another"
   ],
   "metadata": {
    "collapsed": false,
    "pycharm": {
     "name": "#%% md\n"
    }
   }
  },
  {
   "cell_type": "code",
   "execution_count": 31,
   "outputs": [],
   "source": [
    "class FluentInterface:\n",
    "    def __init__(self, root_name):\n",
    "        self.root_name = root_name\n",
    "        self.__root = HtmlElement(name=root_name)\n",
    "\n",
    "    def add_child(self, child_name, child_text):\n",
    "        self.__root.elements.append(\n",
    "            HtmlElement(child_name, child_text)\n",
    "        )\n",
    "        return self\n",
    "\n",
    "    def __str__(self):\n",
    "        return str(self.__root)\n",
    "\n",
    "\n"
   ],
   "metadata": {
    "collapsed": false,
    "pycharm": {
     "name": "#%%\n",
     "is_executing": false
    }
   }
  },
  {
   "cell_type": "code",
   "execution_count": 32,
   "outputs": [
    {
     "name": "stdout",
     "text": [
      "Fluent Builder:\n",
      "<ul>\n",
      "  <li>\n",
      "    hello\n",
      "  </li>\n",
      "  <li>\n",
      "    world\n",
      "  </li>\n",
      "</ul>\n"
     ],
     "output_type": "stream"
    }
   ],
   "source": [
    "fluent_builder = FluentInterface('ul')\n",
    "fluent_builder.add_child('li', 'hello')\\\n",
    "              .add_child('li', 'world')\n",
    "\n",
    "print('Fluent Builder:')\n",
    "print(fluent_builder)"
   ],
   "metadata": {
    "collapsed": false,
    "pycharm": {
     "name": "#%%\n",
     "is_executing": false
    }
   }
  },
  {
   "cell_type": "code",
   "execution_count": null,
   "outputs": [],
   "source": [
    "\n"
   ],
   "metadata": {
    "collapsed": false,
    "pycharm": {
     "name": "#%%\n"
    }
   }
  }
 ],
 "metadata": {
  "kernelspec": {
   "display_name": "Python 3",
   "language": "python",
   "name": "python3"
  },
  "language_info": {
   "codemirror_mode": {
    "name": "ipython",
    "version": 2
   },
   "file_extension": ".py",
   "mimetype": "text/x-python",
   "name": "python",
   "nbconvert_exporter": "python",
   "pygments_lexer": "ipython2",
   "version": "2.7.6"
  },
  "pycharm": {
   "stem_cell": {
    "cell_type": "raw",
    "source": [],
    "metadata": {
     "collapsed": false
    }
   }
  }
 },
 "nbformat": 4,
 "nbformat_minor": 0
}