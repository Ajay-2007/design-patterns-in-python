{
 "cells": [
  {
   "cell_type": "code",
   "execution_count": 1,
   "metadata": {
    "collapsed": true,
    "pycharm": {
     "is_executing": false
    }
   },
   "outputs": [],
   "source": [
    "class Person:\n",
    "    def __init__(self):\n",
    "        self.name = None\n",
    "        self.position = None\n",
    "        self.date_of_birth = None\n",
    "        \n",
    "    def __str__(self):\n",
    "        return f'{self.name} born on {self.date_of_birth} ' + \\\n",
    "            f'works as {self.position}'\n",
    "    \n",
    "    @staticmethod\n",
    "    def new():\n",
    "        return Person()\n",
    "\n",
    "class PersonBuilder:\n",
    "    def __init__(self):\n",
    "        self.person = Person()\n",
    "        \n",
    "    def build(self):\n",
    "        return self.person\n",
    "\n",
    "class PersonInfoBuilder(PersonBuilder):\n",
    "    def called(self, name):\n",
    "        self.person.name = name\n",
    "        return self\n",
    "\n",
    "class PersonJobBuilder(PersonInfoBuilder):\n",
    "    def works_as_a(self, position):\n",
    "        self.person.position = position\n",
    "        return self\n",
    "    \n",
    "class PersonBirthDateBuilder(PersonJobBuilder):\n",
    "    def born(self, date_of_birth):\n",
    "        self.person.date_of_birth = date_of_birth\n",
    "        return self "
   ]
  },
  {
   "cell_type": "code",
   "execution_count": 2,
   "outputs": [
    {
     "name": "stdout",
     "text": [
      "Ajay born on 20/07/1997 works as Software Engineer\n"
     ],
     "output_type": "stream"
    }
   ],
   "source": [
    "pb = PersonBirthDateBuilder()\n",
    "me = pb\\\n",
    "    .called('Ajay')\\\n",
    "    .works_as_a('Software Engineer')\\\n",
    "    .born('20/07/1997')\\\n",
    "    .build()\n",
    "\n",
    "print(me)\n"
   ],
   "metadata": {
    "collapsed": false,
    "pycharm": {
     "name": "#%%\n",
     "is_executing": false
    }
   }
  }
 ],
 "metadata": {
  "kernelspec": {
   "display_name": "Python 3",
   "language": "python",
   "name": "python3"
  },
  "language_info": {
   "codemirror_mode": {
    "name": "ipython",
    "version": 2
   },
   "file_extension": ".py",
   "mimetype": "text/x-python",
   "name": "python",
   "nbconvert_exporter": "python",
   "pygments_lexer": "ipython2",
   "version": "2.7.6"
  },
  "pycharm": {
   "stem_cell": {
    "cell_type": "raw",
    "source": [],
    "metadata": {
     "collapsed": false
    }
   }
  }
 },
 "nbformat": 4,
 "nbformat_minor": 0
}