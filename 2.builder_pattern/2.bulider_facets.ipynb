{
 "cells": [
  {
   "cell_type": "code",
   "execution_count": 8,
   "metadata": {
    "collapsed": true,
    "pycharm": {
     "is_executing": false
    }
   },
   "outputs": [],
   "source": [
    "class Person:\n",
    "    def __init__(self):\n",
    "        # address\n",
    "        self.street_address = None\n",
    "        self.postcode = None\n",
    "        self.city = None\n",
    "        # employment\n",
    "        self.company_name = None\n",
    "        self.position = None\n",
    "        self.annual_income = None\n",
    "        \n",
    "    def __str__(self):\n",
    "        return f'Address: {self.street_address}, {self.postcode}, {self.city}' + \\\n",
    "            f'Employed at {self.company_name} as a {self.position} earning {self.annual_income}'\n",
    "    "
   ]
  },
  {
   "cell_type": "code",
   "execution_count": 9,
   "outputs": [],
   "source": [
    "class PersonBuilder:\n",
    "    def __init__(self, person=Person()):\n",
    "        self.person = person\n",
    "        \n",
    "    @property\n",
    "    def works(self):\n",
    "        return PersonJobBuilder(self.person)\n",
    "    \n",
    "    @property\n",
    "    def lives(self):\n",
    "        return PersonAddressBuilder(self.person) \n",
    "        \n",
    "    def build(self):\n",
    "        return self.person\n",
    "    \n",
    "class PersonJobBuilder(PersonBuilder):\n",
    "    def __init__(self, person):\n",
    "        super().__init__(person)\n",
    "        \n",
    "    def at(self, company_name):\n",
    "        self.person.company_name = company_name\n",
    "        return self\n",
    "    \n",
    "    def as_a(self, position):\n",
    "        self.person.position = position\n",
    "        return self\n",
    "    \n",
    "    def earning(self, annual_income):\n",
    "        self.person.annual_income = annual_income\n",
    "        return self\n",
    "\n",
    "class PersonAddressBuilder(PersonBuilder):\n",
    "    def __init__(self, person):\n",
    "        super().__init__(person)\n",
    "        \n",
    "    def at(self, street_address):\n",
    "        self.person.street_address = street_address\n",
    "        return self\n",
    "    \n",
    "    def with_postcode(self, postcode):\n",
    "        self.person.postcode = postcode\n",
    "        return self\n",
    "    \n",
    "    def in_city(self, city):\n",
    "        self.person.city = city\n",
    "        return self"
   ],
   "metadata": {
    "collapsed": false,
    "pycharm": {
     "name": "#%%\n",
     "is_executing": false
    }
   }
  },
  {
   "cell_type": "code",
   "execution_count": 10,
   "outputs": [],
   "source": [
    "pb = PersonBuilder()"
   ],
   "metadata": {
    "collapsed": false,
    "pycharm": {
     "name": "#%%\n",
     "is_executing": false
    }
   }
  },
  {
   "cell_type": "code",
   "execution_count": 11,
   "outputs": [
    {
     "name": "stdout",
     "text": [
      "Address: 123 London Road, SW12BC, LondonEmployed at Fabrikam as a Engineer earning 123000\n"
     ],
     "output_type": "stream"
    }
   ],
   "source": [
    "person = pb\\\n",
    "    .lives\\\n",
    "        .at('123 London Road')\\\n",
    "        .in_city('London')\\\n",
    "        .with_postcode('SW12BC')\\\n",
    "    .works\\\n",
    "        .at('Fabrikam')\\\n",
    "        .as_a('Engineer')\\\n",
    "        .earning(123000)\\\n",
    "    .build()\n",
    "\n",
    "print(person)\n",
    "    "
   ],
   "metadata": {
    "collapsed": false,
    "pycharm": {
     "name": "#%%\n",
     "is_executing": false
    }
   }
  },
  {
   "cell_type": "code",
   "execution_count": null,
   "outputs": [],
   "source": [
    "\n"
   ],
   "metadata": {
    "collapsed": false,
    "pycharm": {
     "name": "#%%\n"
    }
   }
  }
 ],
 "metadata": {
  "kernelspec": {
   "display_name": "Python 3",
   "language": "python",
   "name": "python3"
  },
  "language_info": {
   "codemirror_mode": {
    "name": "ipython",
    "version": 2
   },
   "file_extension": ".py",
   "mimetype": "text/x-python",
   "name": "python",
   "nbconvert_exporter": "python",
   "pygments_lexer": "ipython2",
   "version": "2.7.6"
  },
  "pycharm": {
   "stem_cell": {
    "cell_type": "raw",
    "source": [],
    "metadata": {
     "collapsed": false
    }
   }
  }
 },
 "nbformat": 4,
 "nbformat_minor": 0
}